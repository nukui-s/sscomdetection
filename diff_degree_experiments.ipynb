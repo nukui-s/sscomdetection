{
 "cells": [
  {
   "cell_type": "code",
   "execution_count": null,
   "metadata": {
    "collapsed": false
   },
   "outputs": [
    {
     "name": "stdout",
     "output_type": "stream",
     "text": [
      "density: 0\n",
      "******************************\n",
      "update_rule\n",
      "Step: 66\n",
      "Best Cost: 0.00477064208984\n",
      "Time: 0.869074821472168\n",
      "Loss: [[ 2432.98589868]]\n",
      "NMI: 0.406325216829\n",
      "******************************\n",
      "clip_adam\n",
      "Step: 100\n",
      "Best Cost: nan\n",
      "Time: 1.2711269855499268\n",
      "Loss: [[ 2764.]]\n",
      "NMI: 0.0\n",
      "******************************\n",
      "abs_sgd\n",
      "Step: 100\n",
      "Best Cost: 0.00477332373047\n",
      "Time: 1.0232598781585693\n",
      "Loss: [[ 2443.01546873]]\n",
      "NMI: 0.416622912986\n",
      "******************************\n",
      "abs_adam\n",
      "Step: 100\n",
      "Best Cost: 0.00488981152344\n",
      "Time: 1.3009850978851318\n",
      "Loss: [[ 2464.42512001]]\n",
      "NMI: 0.293762399608\n",
      "******************************\n",
      "clip_sgd\n",
      "Step: 100\n",
      "Best Cost: 0.00478865625\n",
      "Time: 1.240048885345459\n",
      "Loss: [[ 2449.6410829]]\n",
      "NMI: 0.426002056698\n",
      "density: 0\n",
      "******************************\n",
      "update_rule\n",
      "Step: 55\n",
      "Best Cost: 0.00477073144531\n",
      "Time: 0.726219892501831\n",
      "Loss: [[ 2430.71205676]]\n",
      "NMI: 0.410277616641\n",
      "******************************\n",
      "clip_adam\n",
      "Step: 100\n",
      "Best Cost: nan\n",
      "Time: 1.3258020877838135\n",
      "Loss: [[ 2764.]]\n",
      "NMI: 0.0\n",
      "******************************\n",
      "abs_sgd\n",
      "Step: 100\n",
      "Best Cost: 0.00479442724609\n",
      "Time: 1.5009589195251465\n",
      "Loss: [[ 2445.94794902]]\n",
      "NMI: 0.403821094623\n",
      "******************************\n",
      "abs_adam\n",
      "Step: 100\n",
      "Best Cost: 0.00491552148438\n",
      "Time: 1.7631101608276367\n",
      "Loss: [[ 2478.54412712]]\n",
      "NMI: 0.299785558607\n",
      "******************************\n",
      "clip_sgd\n",
      "Step: 100\n",
      "Best Cost: 0.00480444335937\n",
      "Time: 2.5309698581695557\n",
      "Loss: [[ 2452.3262634]]\n",
      "NMI: 0.340763645517\n",
      "density: 0\n",
      "******************************\n",
      "update_rule\n",
      "Step: 100\n",
      "Best Cost: 0.00477176660156\n",
      "Time: 1.3787739276885986\n",
      "Loss: [[ 2438.80135249]]\n",
      "NMI: 0.405200602281\n",
      "******************************\n",
      "clip_adam\n",
      "Step: 100\n",
      "Best Cost: nan\n",
      "Time: 1.91920804977417\n",
      "Loss: [[ 2764.]]\n",
      "NMI: 0.0\n",
      "******************************\n",
      "abs_sgd\n",
      "Step: 100\n",
      "Best Cost: 0.00477388769531\n",
      "Time: 1.397265911102295\n",
      "Loss: [[ 2436.47709217]]\n",
      "NMI: 0.419753625024\n",
      "******************************\n",
      "abs_adam\n",
      "Step: 100\n",
      "Best Cost: 0.00485396386719\n",
      "Time: 2.163198947906494\n",
      "Loss: [[ 2458.04075488]]\n",
      "NMI: 0.352160884679\n",
      "******************************\n",
      "clip_sgd\n",
      "Step: 100\n",
      "Best Cost: 0.00477079541016\n",
      "Time: 2.608246088027954\n",
      "Loss: [[ 2443.75913886]]\n",
      "NMI: 0.428151964767\n",
      "density: 0\n",
      "******************************\n",
      "update_rule\n",
      "Step: 62\n",
      "Best Cost: 0.00477044921875\n",
      "Time: 0.7467260360717773\n",
      "Loss: [[ 2436.40750131]]\n",
      "NMI: 0.40903182372\n",
      "******************************\n",
      "clip_adam\n",
      "Step: 100\n",
      "Best Cost: nan\n",
      "Time: 1.6581859588623047\n",
      "Loss: [[ 2764.]]\n",
      "NMI: 0.0\n",
      "******************************\n",
      "abs_sgd\n",
      "Step: 100\n",
      "Best Cost: 0.0047936796875\n",
      "Time: 1.7229199409484863\n",
      "Loss: [[ 2451.31106068]]\n",
      "NMI: 0.349159377993\n",
      "******************************\n",
      "abs_adam\n",
      "Step: 100\n",
      "Best Cost: 0.00492189648437\n",
      "Time: 1.7161259651184082\n",
      "Loss: [[ 2490.92701144]]\n",
      "NMI: 0.288005616552\n",
      "******************************\n",
      "clip_sgd\n",
      "Step: 100\n",
      "Best Cost: 0.00477448535156\n",
      "Time: 1.4078028202056885\n",
      "Loss: [[ 2436.53339969]]\n",
      "NMI: 0.422043931762\n",
      "density: 0\n",
      "******************************\n",
      "update_rule\n",
      "Step: 95\n",
      "Best Cost: 0.00480531542969\n",
      "Time: 1.052088975906372\n",
      "Loss: [[ 2638.1215468]]\n",
      "NMI: 0.289251264402\n",
      "******************************\n",
      "clip_adam\n",
      "Step: 100\n",
      "Best Cost: nan\n",
      "Time: 1.5334210395812988\n",
      "Loss: [[ 2764.]]\n",
      "NMI: 0.0\n",
      "******************************\n",
      "abs_sgd\n",
      "Step: 100\n",
      "Best Cost: 0.00477291894531\n",
      "Time: 2.22875714302063\n",
      "Loss: [[ 2435.88413975]]\n",
      "NMI: 0.407615038056\n",
      "******************************\n",
      "abs_adam\n",
      "Step: 100\n",
      "Best Cost: 0.00494020996094\n",
      "Time: 1.3999581336975098\n",
      "Loss: [[ 2492.75806287]]\n",
      "NMI: 0.222650938023\n",
      "******************************\n",
      "clip_sgd\n",
      "Step: 100\n",
      "Best Cost: 0.00484676269531\n",
      "Time: 1.1309139728546143\n",
      "Loss: [[ 2466.40451545]]\n",
      "NMI: 0.248836614967\n"
     ]
    },
    {
     "ename": "NameError",
     "evalue": "name 'exp_label' is not defined",
     "output_type": "error",
     "traceback": [
      "\u001b[0;31m---------------------------------------------------------------------------\u001b[0m",
      "\u001b[0;31mNameError\u001b[0m                                 Traceback (most recent call last)",
      "\u001b[0;32m/Users/nuku02/python/sscomdetection/compare_nmi.py\u001b[0m in \u001b[0;36m<module>\u001b[0;34m()\u001b[0m\n\u001b[1;32m    118\u001b[0m                 \u001b[0;31m#import pdb; pdb.set_trace()\u001b[0m\u001b[0;34m\u001b[0m\u001b[0;34m\u001b[0m\u001b[0m\n\u001b[1;32m    119\u001b[0m \u001b[0;34m\u001b[0m\u001b[0m\n\u001b[0;32m--> 120\u001b[0;31m         \u001b[0mresult_path\u001b[0m \u001b[0;34m=\u001b[0m \u001b[0;34m\"result/{}_{}.csv\"\u001b[0m\u001b[0;34m.\u001b[0m\u001b[0mformat\u001b[0m\u001b[0;34m(\u001b[0m\u001b[0mexp_label\u001b[0m\u001b[0;34m,\u001b[0m \u001b[0mdense_label\u001b[0m\u001b[0;34m)\u001b[0m\u001b[0;34m\u001b[0m\u001b[0m\n\u001b[0m\u001b[1;32m    121\u001b[0m         \u001b[0mmodel_names\u001b[0m \u001b[0;34m=\u001b[0m \u001b[0msorted\u001b[0m\u001b[0;34m(\u001b[0m\u001b[0mlist\u001b[0m\u001b[0;34m(\u001b[0m\u001b[0mmodels\u001b[0m\u001b[0;34m.\u001b[0m\u001b[0mkeys\u001b[0m\u001b[0;34m(\u001b[0m\u001b[0;34m)\u001b[0m\u001b[0;34m)\u001b[0m\u001b[0;34m)\u001b[0m\u001b[0;34m\u001b[0m\u001b[0m\n\u001b[1;32m    122\u001b[0m         \u001b[0;32mwith\u001b[0m \u001b[0mopen\u001b[0m\u001b[0;34m(\u001b[0m\u001b[0mresult_path\u001b[0m\u001b[0;34m,\u001b[0m \u001b[0;34m\"w\"\u001b[0m\u001b[0;34m)\u001b[0m \u001b[0;32mas\u001b[0m \u001b[0mf\u001b[0m\u001b[0;34m:\u001b[0m\u001b[0;34m\u001b[0m\u001b[0m\n",
      "\u001b[0;31mNameError\u001b[0m: name 'exp_label' is not defined"
     ]
    },
    {
     "name": "stdout",
     "output_type": "stream",
     "text": [
      "> \u001b[0;32m/Users/nuku02/python/sscomdetection/compare_nmi.py\u001b[0m(120)\u001b[0;36m<module>\u001b[0;34m()\u001b[0m\n",
      "\u001b[0;32m    118 \u001b[0;31m                \u001b[0;31m#import pdb; pdb.set_trace()\u001b[0m\u001b[0;34m\u001b[0m\u001b[0;34m\u001b[0m\u001b[0m\n",
      "\u001b[0m\u001b[0;32m    119 \u001b[0;31m\u001b[0;34m\u001b[0m\u001b[0m\n",
      "\u001b[0m\u001b[0;32m--> 120 \u001b[0;31m        \u001b[0mresult_path\u001b[0m \u001b[0;34m=\u001b[0m \u001b[0;34m\"result/{}_{}.csv\"\u001b[0m\u001b[0;34m.\u001b[0m\u001b[0mformat\u001b[0m\u001b[0;34m(\u001b[0m\u001b[0mexp_label\u001b[0m\u001b[0;34m,\u001b[0m \u001b[0mdense_label\u001b[0m\u001b[0;34m)\u001b[0m\u001b[0;34m\u001b[0m\u001b[0m\n",
      "\u001b[0m\u001b[0;32m    121 \u001b[0;31m        \u001b[0mmodel_names\u001b[0m \u001b[0;34m=\u001b[0m \u001b[0msorted\u001b[0m\u001b[0;34m(\u001b[0m\u001b[0mlist\u001b[0m\u001b[0;34m(\u001b[0m\u001b[0mmodels\u001b[0m\u001b[0;34m.\u001b[0m\u001b[0mkeys\u001b[0m\u001b[0;34m(\u001b[0m\u001b[0;34m)\u001b[0m\u001b[0;34m)\u001b[0m\u001b[0;34m)\u001b[0m\u001b[0;34m\u001b[0m\u001b[0m\n",
      "\u001b[0m\u001b[0;32m    122 \u001b[0;31m        \u001b[0;32mwith\u001b[0m \u001b[0mopen\u001b[0m\u001b[0;34m(\u001b[0m\u001b[0mresult_path\u001b[0m\u001b[0;34m,\u001b[0m \u001b[0;34m\"w\"\u001b[0m\u001b[0;34m)\u001b[0m \u001b[0;32mas\u001b[0m \u001b[0mf\u001b[0m\u001b[0;34m:\u001b[0m\u001b[0;34m\u001b[0m\u001b[0m\n",
      "\u001b[0m\n"
     ]
    }
   ],
   "source": [
    "%run compare_nmi.py\n"
   ]
  },
  {
   "cell_type": "code",
   "execution_count": 11,
   "metadata": {
    "collapsed": false
   },
   "outputs": [
    {
     "name": "stdout",
     "output_type": "stream",
     "text": [
      "Automatic pdb calling has been turned ON\n"
     ]
    }
   ],
   "source": [
    "%pdb"
   ]
  },
  {
   "cell_type": "code",
   "execution_count": 8,
   "metadata": {
    "collapsed": false
   },
   "outputs": [],
   "source": [
    "const = pd.read_pickle('data/const/diff_degree_LRF_500_5_50_100_100_0.3_0.pkl')"
   ]
  },
  {
   "cell_type": "code",
   "execution_count": 9,
   "metadata": {
    "collapsed": false
   },
   "outputs": [
    {
     "data": {
      "text/plain": [
       "[]"
      ]
     },
     "execution_count": 9,
     "metadata": {},
     "output_type": "execute_result"
    }
   ],
   "source": [
    "const"
   ]
  },
  {
   "cell_type": "code",
   "execution_count": null,
   "metadata": {
    "collapsed": true
   },
   "outputs": [],
   "source": []
  }
 ],
 "metadata": {
  "kernelspec": {
   "display_name": "Python 3",
   "language": "python",
   "name": "python3"
  },
  "language_info": {
   "codemirror_mode": {
    "name": "ipython",
    "version": 3
   },
   "file_extension": ".py",
   "mimetype": "text/x-python",
   "name": "python",
   "nbconvert_exporter": "python",
   "pygments_lexer": "ipython3",
   "version": "3.5.2"
  }
 },
 "nbformat": 4,
 "nbformat_minor": 1
}
